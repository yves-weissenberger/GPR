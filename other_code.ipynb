{
 "cells": [
  {
   "cell_type": "code",
   "execution_count": 1,
   "metadata": {
    "collapsed": true
   },
   "outputs": [],
   "source": [
    "# Code from Chapter 18 of Machine Learning: An Algorithmic Perspective (2nd Edition)\n",
    "# by Stephen Marsland (http://stephenmonika.net)\n",
    "\n",
    "# You are free to use, change, or redistribute the code in any way you wish for\n",
    "# non-commercial purposes, but please maintain the name of the original author.\n",
    "# This code comes with no warranty of any kind.\n",
    "\n",
    "# Stephen Marsland, 2014\n",
    "%matplotlib inline\n",
    "import matplotlib.pyplot as pl\n",
    "import numpy as np\n",
    "import scipy.optimize as so\n",
    "import seaborn\n",
    "from scipy.stats import multivariate_normal\n",
    "seaborn.set_context(\"paper\",font_scale=2)\n",
    "seaborn.set_style(\"whitegrid\")\n"
   ]
  },
  {
   "cell_type": "code",
   "execution_count": 2,
   "metadata": {
    "collapsed": true
   },
   "outputs": [],
   "source": [
    "def kernel2(data1,data2,theta,wantderiv=True,measnoise=1.):\n",
    "    # Uses exp(theta) to ensure positive hyperparams\n",
    "    theta = np.squeeze(theta)\n",
    " \n",
    "    theta = np.exp(theta)\n",
    "    # Squared exponential\n",
    "    if np.ndim(data1) == 1:\n",
    "        d1 = np.shape(data1)[0]\n",
    "        n = 1\n",
    "        data1 = data1*np.ones((d1,1))\n",
    "        data2 = data2*np.ones((np.shape(data2)[0],1))\n",
    "    else:\n",
    "        (d1,n) = np.shape(data1)\n",
    "\n",
    "    d2 = np.shape(data2)[0]\n",
    "    sumxy = np.zeros((d1,d2))\n",
    "    for d in range(n):\n",
    "        D1 = np.transpose([data1[d]]) * np.ones((d1,d2))\n",
    "        D2 = [data2[d]] * np.ones((d1,d2))\n",
    "        #print theta[d+1]\n",
    "        sumxy += ((D1-D2)**2)*theta[d+1]\n",
    "\n",
    "\n",
    "    k = theta[0] * np.exp(-0.5*sumxy) \n",
    "    #k = theta[0]**2 * np.exp(-sumxy/(2.0*theta[1]**2))\n",
    "\n",
    "    #print k\n",
    "    #print measnoise*theta[2]**2*np.eye(d1,d2)\n",
    "    if wantderiv:\n",
    "        K = np.zeros((d1,d2,len(theta)+1))\n",
    "        # K[:,:,0] is the original covariance matrix\n",
    "        K[:,:,0] = k + measnoise*theta[2]*np.eye(d1,d2)\n",
    "        K[:,:,1] = k\n",
    "        K[:,:,2] = -0.5*k*sumxy\n",
    "        K[:,:,3] = theta[2]*np.eye(d1,d2)\n",
    "        return K\n",
    "    else:\n",
    "        return k + measnoise*theta[2]*np.eye(d1,d2)"
   ]
  },
  {
   "cell_type": "code",
   "execution_count": null,
   "metadata": {
    "collapsed": false
   },
   "outputs": [],
   "source": []
  },
  {
   "cell_type": "code",
   "execution_count": 3,
   "metadata": {
    "collapsed": false
   },
   "outputs": [
    {
     "data": {
      "image/png": "[encoded data removed]",
      "text/plain": [
       "<matplotlib.figure.Figure at 0x7fa3a38611d0>"
      ]
     },
     "metadata": {},
     "output_type": "display_data"
    }
   ],
   "source": [
    "X = np.linspace(0,10,num=4)\n",
    "x = np.linspace(0,40,num=24)\n",
    "\n",
    "#tt = np.concatenate([np.cos(x/4),np.sin(4*X)])\n",
    "tt = np.cos(x/4)\n",
    "#tt  =  np.hstack([np.zeros(50),np.ones(50)*8]) - 3 + np.random.normal(scale=2,size=100)\n",
    "\n",
    "t = tt + np.random.normal(scale=.3,size=len(tt))\n",
    "x = np.linspace(0,2,num=len(t))\n",
    "\n",
    "pl.plot(x,t)\n",
    "theta = np.array([1e0,0,.05])\n",
    "K = kernel2(data1=x,data2=x,theta=theta)\n",
    "#pl.imshow(K[:,:,1],cmap='RdBu')\n",
    "#pl.grid()\n",
    "#pl.colorbar()"
   ]
  },
  {
   "cell_type": "code",
   "execution_count": null,
   "metadata": {
    "collapsed": false
   },
   "outputs": [],
   "source": []
  },
  {
   "cell_type": "code",
   "execution_count": 4,
   "metadata": {
    "collapsed": true
   },
   "outputs": [],
   "source": [
    "def predict(xstar,data,k,t,theta,L=None,beta=None):\n",
    "    if L==None:\n",
    "        L = np.linalg.cholesky(k)\n",
    "        beta = np.linalg.solve(L.transpose(), np.linalg.solve(L,t))\n",
    "    kstar = kernel2(data,xstar,theta,wantderiv=False,measnoise=0)\n",
    "    f = np.dot(kstar.transpose(), beta)\n",
    "    v = np.linalg.solve(L,kstar)\n",
    "    V = kernel2(xstar,xstar,theta,wantderiv=False,measnoise=0)-np.dot(v.transpose(),v)\n",
    "    #logp = -0.5*np.dot(t.transpose(),beta) - np.sum(np.log(np.diag(L))) - np.shape(data)[0] /2. * np.log(2*np.pi)\n",
    "    return (f,V)\n"
   ]
  },
  {
   "cell_type": "code",
   "execution_count": 5,
   "metadata": {
    "collapsed": true
   },
   "outputs": [],
   "source": [
    "def logPosterior(theta,data,t):\n",
    "    #data,t = args\n",
    "    k = kernel2(data,data,theta,wantderiv=False)\n",
    "    L = np.linalg.cholesky(k)\n",
    "    beta = np.linalg.solve(L.transpose(), np.linalg.solve(L,t))\n",
    "    logp = -0.5*np.dot(t.transpose(),beta) - np.sum(np.log(np.diag(L))) - \\\n",
    "           np.shape(data)[0] /2. * np.log(2*np.pi)\n",
    "    #print t\n",
    "    return -logp\n"
   ]
  },
  {
   "cell_type": "code",
   "execution_count": 6,
   "metadata": {
    "collapsed": true
   },
   "outputs": [],
   "source": [
    "def gradLogPosterior(theta,data,t):\n",
    "    #data,t = args\n",
    "    theta = np.squeeze(theta)\n",
    "    d = len(theta)\n",
    "    K = kernel2(data,data,theta,wantderiv=True)\n",
    "\n",
    "    L = np.linalg.cholesky(np.squeeze(K[:,:,0]))\n",
    "    invk = np.linalg.solve(L.transpose(),np.linalg.solve(L,np.eye(np.shape(data)[0])))\n",
    "    # P404, Eqn 18.12\n",
    "    dlogpdtheta = np.zeros(d)\n",
    "    for d in range(1,len(theta)+1):\n",
    "        dlogpdtheta[d-1] = 0.5*np.dot(t.transpose(), np.dot(invk, np.dot(np.squeeze(K[:,:,d]),\n",
    "                            np.dot(invk,t)))) - 0.5*np.trace(np.dot(invk,np.squeeze(K[:,:,d])))\n",
    "    #print t\n",
    "    return -dlogpdtheta\n"
   ]
  },
  {
   "cell_type": "code",
   "execution_count": 7,
   "metadata": {
    "collapsed": false
   },
   "outputs": [
    {
     "data": {
      "text/plain": [
       "[<matplotlib.lines.Line2D at 0x7fa3a0d46250>]"
      ]
     },
     "execution_count": 7,
     "metadata": {},
     "output_type": "execute_result"
    },
    {
     "data": {
      "image/png": "[encoded data removed]",
      "text/plain": [
       "<matplotlib.figure.Figure at 0x7fa3a0e33c90>"
      ]
     },
     "metadata": {},
     "output_type": "display_data"
    }
   ],
   "source": [
    "x = np.array([-3.5, -2.5, -.5, .4, 2.25])\n",
    "t = 0.55*np.array([-2., 0., 1., 2., -1.])\n",
    "pl.plot(x,t,'ko')"
   ]
  },
  {
   "cell_type": "code",
   "execution_count": 8,
   "metadata": {
    "collapsed": false,
    "scrolled": false
   },
   "outputs": [
    {
     "name": "stdout",
     "output_type": "stream",
     "text": [
      "[ 2.          1.01591201 -1.8305131 ] -9.75214530453\n",
      "Optimization terminated successfully.\n",
      "         Current function value: 5.591303\n",
      "         Iterations: 65\n",
      "         Function evaluations: 154\n",
      "         Gradient evaluations: 154\n",
      "[ -0.54350338   0.80947788 -14.78842393] -5.59130280408\n"
     ]
    }
   ],
   "source": [
    "import scipy.optimize as op\n",
    "\n",
    "theta = np.array([ 2., 1.01591201, -1.8305131]) # GP4\n",
    "\n",
    "print theta, -logPosterior(theta,x,t)\n",
    "r = op.minimize(fun = logPosterior,\n",
    "                x0 = theta,\n",
    "                args = (x,t),\n",
    "                jac=gradLogPosterior,\n",
    "                method='CG',\n",
    "                options = {'disp': 1,'gtol':1e-6,})\n",
    "newTheta = r.x\n",
    "print newTheta, -logPosterior(newTheta,x,t)"
   ]
  },
  {
   "cell_type": "code",
   "execution_count": 9,
   "metadata": {
    "collapsed": false,
    "scrolled": true
   },
   "outputs": [
    {
     "name": "stdout",
     "output_type": "stream",
     "text": [
      "[ 2.          1.01591201 -1.8305131 ] -9.75214530453\n",
      "Optimization terminated successfully.\n",
      "         Current function value: 5.591303\n",
      "         Iterations: 22\n",
      "         Function evaluations: 42\n",
      "         Gradient evaluations: 42\n",
      "[ -0.54350264   0.80947793 -18.5901587 ] -5.59130273857\n"
     ]
    }
   ],
   "source": [
    "args = (x,t)\n",
    "print theta, -logPosterior(theta,x,t)\n",
    "newTheta = so.fmin_cg(logPosterior,\n",
    "                      newTheta,\n",
    "                      fprime=gradLogPosterior,\n",
    "                      args=(x,t),\n",
    "                      gtol=1e-8,maxiter=500)\n",
    "print newTheta, -logPosterior(newTheta,x,t)"
   ]
  },
  {
   "cell_type": "code",
   "execution_count": 10,
   "metadata": {
    "collapsed": false
   },
   "outputs": [
    {
     "data": {
      "text/plain": [
       "2.25"
      ]
     },
     "execution_count": 10,
     "metadata": {},
     "output_type": "execute_result"
    }
   ],
   "source": [
    "x.max()"
   ]
  },
  {
   "cell_type": "code",
   "execution_count": 13,
   "metadata": {
    "collapsed": false
   },
   "outputs": [
    {
     "data": {
      "image/png": "[encoded data removed]",
      "text/plain": [
       "<matplotlib.figure.Figure at 0x7fa3a09ac3d0>"
      ]
     },
     "metadata": {},
     "output_type": "display_data"
    }
   ],
   "source": [
    "xstar = np.linspace(-5,5,100)\n",
    "theta2 = np.array([1,1e-2,.1]) # GP4\n",
    "theta = newTheta\n",
    "\n",
    "ts = [theta2,newTheta]\n",
    "pl.figure(figsize=(12,6))\n",
    "for i in range(2):\n",
    "    \n",
    "    theta = ts[i]\n",
    "    \n",
    "    k = kernel2(x,x,theta,wantderiv=False)\n",
    "    kstar = [kernel2(x,xs*np.ones((1,1)),theta,wantderiv=False) for xs in xstar]\n",
    "    kstar = np.squeeze(kstar)\n",
    "    kstarstar = [kernel2(xs*np.ones((1,1)),xs*np.ones((1,1)),theta,wantderiv=False) for xs in xstar]\n",
    "    kstarstar = np.squeeze(kstarstar)\n",
    "    #kstarstar = kernel2(xstar,xstar,theta,wantderiv=False)\n",
    "\n",
    "    L = np.linalg.cholesky(k)\n",
    "    invk = np.linalg.solve(L.transpose(),np.linalg.solve(L,np.eye(np.shape(x)[0])))\n",
    "    #invL = np.linalg.inv(L)\n",
    "    #invk = np.dot(invL.T,invL)\n",
    "    mean = np.dot(kstar,np.dot(invk,t))\n",
    "    #print np.shape(kstarstar), np.shape(kstar), np.shape(invk)\n",
    "    var = kstarstar - np.diag(np.dot(kstar,np.dot(invk,kstar.T)))\n",
    "    #print np.shape(var)\n",
    "    #var = kstarstar - np.dot(kstar.transpose(),np.dot(invk,kstar))\n",
    "    #var = np.reshape(var,(100,1))\n",
    "    #print mean\n",
    "\n",
    "    pl.subplot(1,2,1+i)\n",
    "    pl.title('Posterior with %s Hyperparameters' %['Wrong','Correct'][i])\n",
    "    pl.plot(xstar,mean,'-k')\n",
    "    #pl.plot(xstar,mean+2*np.sqrt(var),'x-')\n",
    "    #pl.plot(xstar,mean-2*np.sqrt(var),'x-')\n",
    "    #print np.shape(xstar), np.shape(mean), np.shape(var)\n",
    "    pl.fill_between(np.squeeze(xstar),np.squeeze(mean-2*np.sqrt(var)),\n",
    "                    np.squeeze(mean+2*np.sqrt(var)),color='0.75')\n",
    "    pl.plot(x,t,'ko')\n",
    "    #pl.plot(x,tt,color=[.8,.2,.2],linestyle='--',linewidth=3)\n",
    "    pl.axis('tight')\n",
    "    pl.xlabel('x')\n",
    "    pl.ylabel('f(x)')"
   ]
  },
  {
   "cell_type": "code",
   "execution_count": 738,
   "metadata": {
    "collapsed": true
   },
   "outputs": [],
   "source": [
    "def testopt():\n",
    "    theta = np.array([0.5,0.25,0.1]) # GP4\n",
    "\n",
    "    x = np.array([[-3.5, -2.5, -.5, .4, 2.25]]).transpose()\n",
    "    t = 0.55*np.array([[-2., 0., 1., 2., -1.]]).transpose()\n",
    "\n",
    "    args = (x,t)\n",
    "    print theta, -logPosterior(theta,args)\n",
    "    newTheta = so.fmin_cg(logPosterior, theta, fprime=gradLogPosterior, args=[args],\n",
    "                          gtol=1e-4,maxiter=50,disp=1)\n",
    "    print newTheta, -logPosterior(newTheta,args)\n",
    "    #theta = newTheta\n",
    "\n",
    "    xstar = np.reshape(np.linspace(-5,5,100),(100,1))\n",
    "\n",
    "    k = kernel2(x,x,theta,wantderiv=False)\n",
    "    kstar = [kernel2(x,xs*np.ones((1,1)),theta,wantderiv=False) for xs in xstar]\n",
    "    kstar = np.squeeze(kstar)\n",
    "    kstarstar = [kernel2(xs*np.ones((1,1)),xs*np.ones((1,1)),theta,wantderiv=False) for xs in xstar]\n",
    "    kstarstar = np.squeeze(kstarstar)\n",
    "    #kstarstar = kernel2(xstar,xstar,theta,wantderiv=False)\n",
    "\n",
    "    L = np.linalg.cholesky(k)\n",
    "    invk = np.linalg.solve(L.transpose(),np.linalg.solve(L,np.eye(np.shape(x)[0])))\n",
    "    #invL = np.linalg.inv(L)\n",
    "    #invk = np.dot(invL.T,invL)\n",
    "    mean = np.dot(kstar,np.dot(invk,t))\n",
    "    #print np.shape(kstarstar), np.shape(kstar), np.shape(invk)\n",
    "    var = kstarstar - np.diag(np.dot(kstar,np.dot(invk,kstar.T)))\n",
    "    #print np.shape(var)\n",
    "    #var = kstarstar - np.dot(kstar.transpose(),np.dot(invk,kstar))\n",
    "    var = np.reshape(var,(100,1))\n",
    "    #print mean\n",
    "\n",
    "    pl.figure()\n",
    "    pl.plot(xstar,mean,'-k')\n",
    "    #pl.plot(xstar,mean+2*np.sqrt(var),'x-')\n",
    "    #pl.plot(xstar,mean-2*np.sqrt(var),'x-')\n",
    "    #print np.shape(xstar), np.shape(mean), np.shape(var)\n",
    "    pl.fill_between(np.squeeze(xstar),np.squeeze(mean-2*np.sqrt(var)),\n",
    "                    np.squeeze(mean+2*np.sqrt(var)),color='0.75')\n",
    "    pl.plot(x,t,'ko')\n",
    "    pl.axis('tight')\n",
    "    pl.xlabel('x')\n",
    "    pl.ylabel('f(x)')\n",
    "\n"
   ]
  },
  {
   "cell_type": "code",
   "execution_count": 132,
   "metadata": {
    "collapsed": false
   },
   "outputs": [
    {
     "name": "stdout",
     "output_type": "stream",
     "text": [
      "[ 0.5   0.25  0.1 ] 1.28402541669\n",
      "[[-7.28088204]]\n"
     ]
    },
    {
     "ename": "TypeError",
     "evalue": "can only concatenate tuple (not \"list\") to tuple",
     "output_type": "error",
     "traceback": [
      "\u001b[1;31m---------------------------------------------------------------------------\u001b[0m",
      "\u001b[1;31mTypeError\u001b[0m                                 Traceback (most recent call last)",
      "\u001b[1;32m<ipython-input-132-44880016c160>\u001b[0m in \u001b[0;36m<module>\u001b[1;34m()\u001b[0m\n\u001b[1;32m----> 1\u001b[1;33m \u001b[0mtestopt\u001b[0m\u001b[1;33m(\u001b[0m\u001b[1;33m)\u001b[0m\u001b[1;33m\u001b[0m\u001b[0m\n\u001b[0m",
      "\u001b[1;32m<ipython-input-6-d8cedecd5f96>\u001b[0m in \u001b[0;36mtestopt\u001b[1;34m()\u001b[0m\n\u001b[0;32m     34\u001b[0m     \u001b[1;32mprint\u001b[0m \u001b[0mtheta\u001b[0m\u001b[1;33m,\u001b[0m \u001b[1;33m-\u001b[0m\u001b[0mlogPosterior\u001b[0m\u001b[1;33m(\u001b[0m\u001b[0mtheta\u001b[0m\u001b[1;33m,\u001b[0m\u001b[0margs\u001b[0m\u001b[1;33m)\u001b[0m\u001b[1;33m\u001b[0m\u001b[0m\n\u001b[0;32m     35\u001b[0m     newTheta = so.fmin_cg(logPosterior, theta, fprime=gradLogPosterior, args=[args],\n\u001b[1;32m---> 36\u001b[1;33m                           gtol=1e-4,maxiter=50,disp=1)\n\u001b[0m\u001b[0;32m     37\u001b[0m     \u001b[1;32mprint\u001b[0m \u001b[0mnewTheta\u001b[0m\u001b[1;33m,\u001b[0m \u001b[1;33m-\u001b[0m\u001b[0mlogPosterior\u001b[0m\u001b[1;33m(\u001b[0m\u001b[0mnewTheta\u001b[0m\u001b[1;33m,\u001b[0m\u001b[0margs\u001b[0m\u001b[1;33m)\u001b[0m\u001b[1;33m\u001b[0m\u001b[0m\n\u001b[0;32m     38\u001b[0m     \u001b[1;31m#theta = newTheta\u001b[0m\u001b[1;33m\u001b[0m\u001b[1;33m\u001b[0m\u001b[0m\n",
      "\u001b[1;32m/home/yves/anaconda2/lib/python2.7/site-packages/scipy/optimize/optimize.pyc\u001b[0m in \u001b[0;36mfmin_cg\u001b[1;34m(f, x0, fprime, args, gtol, norm, epsilon, maxiter, full_output, disp, retall, callback)\u001b[0m\n\u001b[0;32m   1106\u001b[0m             'return_all': retall}\n\u001b[0;32m   1107\u001b[0m \u001b[1;33m\u001b[0m\u001b[0m\n\u001b[1;32m-> 1108\u001b[1;33m     \u001b[0mres\u001b[0m \u001b[1;33m=\u001b[0m \u001b[0m_minimize_cg\u001b[0m\u001b[1;33m(\u001b[0m\u001b[0mf\u001b[0m\u001b[1;33m,\u001b[0m \u001b[0mx0\u001b[0m\u001b[1;33m,\u001b[0m \u001b[0margs\u001b[0m\u001b[1;33m,\u001b[0m \u001b[0mfprime\u001b[0m\u001b[1;33m,\u001b[0m \u001b[0mcallback\u001b[0m\u001b[1;33m=\u001b[0m\u001b[0mcallback\u001b[0m\u001b[1;33m,\u001b[0m \u001b[1;33m**\u001b[0m\u001b[0mopts\u001b[0m\u001b[1;33m)\u001b[0m\u001b[1;33m\u001b[0m\u001b[0m\n\u001b[0m\u001b[0;32m   1109\u001b[0m \u001b[1;33m\u001b[0m\u001b[0m\n\u001b[0;32m   1110\u001b[0m     \u001b[1;32mif\u001b[0m \u001b[0mfull_output\u001b[0m\u001b[1;33m:\u001b[0m\u001b[1;33m\u001b[0m\u001b[0m\n",
      "\u001b[1;32m/home/yves/anaconda2/lib/python2.7/site-packages/scipy/optimize/optimize.pyc\u001b[0m in \u001b[0;36m_minimize_cg\u001b[1;34m(fun, x0, args, jac, callback, gtol, norm, eps, maxiter, disp, return_all, **unknown_options)\u001b[0m\n\u001b[0;32m   1157\u001b[0m     \u001b[1;32melse\u001b[0m\u001b[1;33m:\u001b[0m\u001b[1;33m\u001b[0m\u001b[0m\n\u001b[0;32m   1158\u001b[0m         \u001b[0mgrad_calls\u001b[0m\u001b[1;33m,\u001b[0m \u001b[0mmyfprime\u001b[0m \u001b[1;33m=\u001b[0m \u001b[0mwrap_function\u001b[0m\u001b[1;33m(\u001b[0m\u001b[0mfprime\u001b[0m\u001b[1;33m,\u001b[0m \u001b[0margs\u001b[0m\u001b[1;33m)\u001b[0m\u001b[1;33m\u001b[0m\u001b[0m\n\u001b[1;32m-> 1159\u001b[1;33m     \u001b[0mgfk\u001b[0m \u001b[1;33m=\u001b[0m \u001b[0mmyfprime\u001b[0m\u001b[1;33m(\u001b[0m\u001b[0mx0\u001b[0m\u001b[1;33m)\u001b[0m\u001b[1;33m\u001b[0m\u001b[0m\n\u001b[0m\u001b[0;32m   1160\u001b[0m     \u001b[0mk\u001b[0m \u001b[1;33m=\u001b[0m \u001b[1;36m0\u001b[0m\u001b[1;33m\u001b[0m\u001b[0m\n\u001b[0;32m   1161\u001b[0m     \u001b[0mxk\u001b[0m \u001b[1;33m=\u001b[0m \u001b[0mx0\u001b[0m\u001b[1;33m\u001b[0m\u001b[0m\n",
      "\u001b[1;32m/home/yves/anaconda2/lib/python2.7/site-packages/scipy/optimize/optimize.pyc\u001b[0m in \u001b[0;36mfunction_wrapper\u001b[1;34m(*wrapper_args)\u001b[0m\n\u001b[0;32m    287\u001b[0m     \u001b[1;32mdef\u001b[0m \u001b[0mfunction_wrapper\u001b[0m\u001b[1;33m(\u001b[0m\u001b[1;33m*\u001b[0m\u001b[0mwrapper_args\u001b[0m\u001b[1;33m)\u001b[0m\u001b[1;33m:\u001b[0m\u001b[1;33m\u001b[0m\u001b[0m\n\u001b[0;32m    288\u001b[0m         \u001b[0mncalls\u001b[0m\u001b[1;33m[\u001b[0m\u001b[1;36m0\u001b[0m\u001b[1;33m]\u001b[0m \u001b[1;33m+=\u001b[0m \u001b[1;36m1\u001b[0m\u001b[1;33m\u001b[0m\u001b[0m\n\u001b[1;32m--> 289\u001b[1;33m         \u001b[1;32mreturn\u001b[0m \u001b[0mfunction\u001b[0m\u001b[1;33m(\u001b[0m\u001b[1;33m*\u001b[0m\u001b[1;33m(\u001b[0m\u001b[0mwrapper_args\u001b[0m \u001b[1;33m+\u001b[0m \u001b[0margs\u001b[0m\u001b[1;33m)\u001b[0m\u001b[1;33m)\u001b[0m\u001b[1;33m\u001b[0m\u001b[0m\n\u001b[0m\u001b[0;32m    290\u001b[0m \u001b[1;33m\u001b[0m\u001b[0m\n\u001b[0;32m    291\u001b[0m     \u001b[1;32mreturn\u001b[0m \u001b[0mncalls\u001b[0m\u001b[1;33m,\u001b[0m \u001b[0mfunction_wrapper\u001b[0m\u001b[1;33m\u001b[0m\u001b[0m\n",
      "\u001b[1;31mTypeError\u001b[0m: can only concatenate tuple (not \"list\") to tuple"
     ]
    }
   ],
   "source": [
    "testopt()"
   ]
  },
  {
   "cell_type": "code",
   "execution_count": 131,
   "metadata": {
    "collapsed": false
   },
   "outputs": [],
   "source": [
    "def demoplot(theta,args):\n",
    "    colour=np.array([0,0,1.0])\n",
    "    faded = 1-(1-colour)/2.0\n",
    "\n",
    "    (X,y) = args\n",
    "    (n, D) = np.shape(X)\n",
    "\n",
    "    xrange = X.max() - X.min()\n",
    "    Xtest = np.arange(X.min()-xrange/2,X.max()+xrange/2,(X.max()-X.min())/100)\n",
    "    Xtest.shape = (len(Xtest),1)\n",
    "\n",
    "    k = kernel2(X,X,theta,wantderiv=False)\n",
    "    kstar = [kernel2(X,xs*np.ones((1,1)),theta,wantderiv=False,measnoise=False) for xs in Xtest]\n",
    "    kstar = np.squeeze(kstar)\n",
    "    kstarstar = [kernel2(xs*np.ones((1,1)),xs*np.ones((1,1)),theta,wantderiv=False,measnoise=False) for xs in Xtest]\n",
    "    kstarstar = np.squeeze(kstarstar)\n",
    "\n",
    "    L = np.linalg.cholesky(k)\n",
    "    invk = np.linalg.solve(L.transpose(),np.linalg.solve(L,np.eye(np.shape(X)[0])))\n",
    "    mean = np.dot(kstar,np.dot(invk,y))\n",
    "    var = kstarstar - np.diag(np.dot(kstar,np.dot(invk,kstar.T)))\n",
    "    #var = np.reshape(var,(100,1))\n",
    "\n",
    "    pl.ion()\n",
    "    fig = pl.figure()\n",
    "    #ax1 = fig.add_subplot(211)\n",
    "    #ax2 = fig.add_subplot(212,sharex=ax1,sharey=ax1)\n",
    "    pl.plot(Xtest,mean,'-k')\n",
    "    #pl.plot(xstar,mean+2*np.sqrt(var),'x-')\n",
    "    #pl.plot(xstar,mean-2*np.sqrt(var),'x-')\n",
    "    #print np.shape(xstar), np.shape(mean), np.shape(var)\n",
    "    pl.fill_between(np.squeeze(Xtest),np.squeeze(mean-2*np.sqrt(var)),np.squeeze(mean+2*np.sqrt(var)),color='0.75')\n",
    "    pl.plot(X,y,'ko')\n",
    "#pl.axis('tight')\n",
    "#pl.xlabel('x')\n",
    "#pl.ylabel('f(x)')\n",
    "\n",
    "#covariance = np.exp(theta[0])*np.exp(-np.exp(theta[1])*Xtest**2)\n",
    "#print np.shape(Xtest), np.shape(covariance)\n",
    "#ax2.fill_between(np.squeeze(Xtest),np.squeeze(np.zeros(np.shape(Xtest))),np.squeeze(covariance),color='black',alpha=.2)\n",
    "#ax2.plot(0,np.exp(theta[0]) + np.exp(theta[-1]),'o',color='black')\n"
   ]
  },
  {
   "cell_type": "code",
   "execution_count": 130,
   "metadata": {
    "collapsed": true
   },
   "outputs": [],
   "source": [
    "\n",
    "def showpost():\n",
    "    #theta = np.array([0.5,1.,0.0]) # GP1\n",
    "    #theta = np.array([0.5,1.,0.2]) # GP2\n",
    "    #theta = np.array([1.0,1.,0.0]) # GP3\n",
    "    theta = np.array([0.5,0.5,0.0]) # GP4\n",
    "\n",
    "    x = np.array([[-3.5, -2.5, -.5, .4, 2.25]]).transpose()\n",
    "    t = 0.55*np.array([[-2., 0., 1., 2., -1.]]).transpose()\n",
    "    xstar = np.reshape(np.linspace(-5,5,100),(100,1))\n",
    "\n",
    "    k = kernel2(x,x,theta,wantderiv=False)\n",
    "    kstar = [kernel2(x,xs*np.ones((1,1)),theta,wantderiv=False) for xs in xstar]\n",
    "    kstar = np.squeeze(kstar)\n",
    "    kstarstar = [kernel2(xs*np.ones((1,1)),xs*np.ones((1,1)),theta,wantderiv=False) for xs in xstar]\n",
    "    kstarstar = np.squeeze(kstarstar)\n",
    "    #kstarstar = kernel(xstar,xstar,theta,wantderiv=False)\n",
    "\n",
    "    #invk = np.linalg.inv(k)\n",
    "    L = np.linalg.cholesky(k)\n",
    "    invk = np.linalg.solve(L.transpose(),np.linalg.solve(L,np.eye(np.shape(x)[0])))\n",
    "    mean = np.dot(kstar,np.dot(invk,t))\n",
    "    var = kstarstar - np.diag(np.dot(kstar,np.dot(invk,kstar.T)))\n",
    "    var = np.reshape(var,(100,1))\n",
    "\n",
    "    pl.figure()\n",
    "    pl.plot(xstar,mean,'-k')\n",
    "    #pl.plot(xstar,mean+2*np.sqrt(var),'x-')\n",
    "    #pl.plot(xstar,mean-2*np.sqrt(var),'x-')\n",
    "    #print np.shape(xstar), np.shape(mean), np.shape(var)\n",
    "    pl.fill_between(np.squeeze(xstar),np.squeeze(mean-2*np.sqrt(var)),\n",
    "                    np.squeeze(mean+2*np.sqrt(var)),color='0.75')\n",
    "    pl.plot(x,t,'ko')\n",
    "    pl.axis('tight')\n",
    "    pl.xlabel('x')\n",
    "    pl.ylabel('f(x)')\n",
    "\n",
    "    print np.shape(mean), np.shape(var)\n",
    "\n",
    "def showlength(theta,scale):\n",
    "\n",
    "    x = scale*np.array([[-3.5, -2.5, -.5, .4, 2.25]]).transpose()\n",
    "    t = 0.55*np.array([[-2., 0, 1., 2., -1.]]).transpose()\n",
    "    xstar = np.reshape(np.linspace(-5,5,100),(100,1))\n",
    "\n",
    "    k = kernel2(x,x,theta,wantderiv=False)\n",
    "    print k\n",
    "    #print k\n",
    "    kstar = [kernel2(x,xs*np.ones((1,1)),theta,wantderiv=False,measnoise=False) for xs in xstar]\n",
    "    kstar = np.squeeze(kstar)\n",
    "    #print kstar\n",
    "    kstarstar = [kernel2(xs*np.ones((1,1)),xs*np.ones((1,1)),theta,wantderiv=False,measnoise=False) for xs in xstar]\n",
    "    kstarstar = np.squeeze(kstarstar)\n",
    "    #kstarstar = kernel2(xstar,xstar,theta,wantderiv=False)\n",
    "\n",
    "    L = np.linalg.cholesky(k)\n",
    "    #invL = np.linalg.inv(L)\n",
    "    #invk = np.dot(invL.T,invL)\n",
    "    invk = np.linalg.solve(L.transpose(),np.linalg.solve(L,np.eye(np.shape(x)[0])))\n",
    "    #print np.shape(kstar), np.shape(invk), np.shape(t), np.shape(kstarstar), np.shape(np.dot(kstar,np.dot(invk,kstar.T)))\n",
    "    mean = np.dot(kstar,np.dot(invk,t))\n",
    "    var = kstarstar - np.diag(np.dot(kstar,np.dot(invk,kstar.T)))\n",
    "    var = np.reshape(var,(100,1))\n",
    "\n",
    "    pl.ion()\n",
    "    pl.figure()\n",
    "    pl.plot(xstar,mean,'-k')\n",
    "    #pl.plot(xstar,mean+2*np.sqrt(var),'x-')\n",
    "    #pl.plot(xstar,mean-2*np.sqrt(var),'x-')\n",
    "    #print np.shape(xstar), np.shape(mean), np.shape(var)\n",
    "    pl.fill_between(np.squeeze(xstar),np.squeeze(mean-2*np.sqrt(var)),np.squeeze(mean+2*np.sqrt(var)),color='0.75')\n",
    "    pl.plot(x,t,'ko')\n",
    "    pl.axis('tight')\n",
    "    pl.xlabel('x')\n",
    "    pl.ylabel('f(x)')\n",
    "\n",
    "def runlength():\n",
    "    theta1 = np.array([0.5,1.,0.0])\n",
    "    theta2 = np.array([0.5,0.5,0.0])\n",
    "    showlength(theta1,1.)\n",
    "    showlength(theta2,1.)\n",
    "    showlength(theta1,.5)\n",
    "    showlength(theta2,.5)\n",
    "\n",
    "def runhp():\n",
    "    theta1 = np.array([0.5,1.0,0.0])\n",
    "    theta2 = np.array([0.5,1.0,0.2])\n",
    "    theta3 = np.array([0.5,1.0,0.4])\n",
    "    theta8 = np.array([0.5,1.0,0.6])\n",
    "    theta4 = np.array([0.25,1.0,0.0])\n",
    "    theta5 = np.array([1.0,1.0,0.0])\n",
    "    theta6 = np.array([0.5,0.5,0.0])\n",
    "    theta7 = np.array([0.5,2.0,0.0])\n",
    "    showlength(theta1,1.)\n",
    "    showlength(theta2,1.)\n",
    "    showlength(theta3,1.)\n",
    "    showlength(theta4,1.)\n",
    "    showlength(theta5,1.)\n",
    "    showlength(theta6,1.)\n",
    "    showlength(theta7,1.)\n",
    "    showlength(theta8,1.)\n",
    "\n",
    "    data = np.loadtxt(\"data.txt\")\n",
    "    X = data[:,0:-1] # everything except the last column\n",
    "    y = data[:,-1]   # just the last column\n",
    "\n",
    "    args = (X,y)\n",
    "\n",
    "    #theta = np.array([ 1.7657065779589087, -1.3841332550882446, -10.162222605402242])\n",
    "    #theta = np.array([ 1.7999382115210827, -14.001391904643032 , -5.577578503745549])\n",
    "    theta = np.zeros(3)\n",
    "    theta[0] = np.random.normal(0,5)\n",
    "    theta[1] = np.random.normal(0,5)\n",
    "    theta[2] = np.random.normal(0,5)\n",
    "    print theta\n",
    "    print np.exp(theta)\n",
    "    print logPosterior(theta,args)\n",
    "    print gradLogPosterior(theta,args)\n",
    "    print so.check_grad(logPosterior, gradLogPosterior, theta, args)\n",
    "\n",
    "    newTheta = so.fmin_cg(logPosterior, theta, fprime=gradLogPosterior, args=args, gtol=1e-4,maxiter=100,disp=1)\n",
    "    print newTheta, logPosterior(newTheta,args)\n",
    "\n",
    "    K = kernel2(X,X,newTheta,wantderiv=False)\n",
    "    L = np.linalg.cholesky(K)\n",
    "    beta = np.linalg.solve(L.transpose(), np.linalg.solve(L,y))\n",
    "    test = X\n",
    "    #pred = [predict(i,input,K,target,newTheta,L,beta) for i in input]\n",
    "    #pred = np.squeeze([predict(i,input,K,target,newTheta,L,beta) for i in input])\n",
    "    demoplot(theta,args)\n",
    "    demoplot(newTheta,args)\n",
    "\n"
   ]
  },
  {
   "cell_type": "code",
   "execution_count": null,
   "metadata": {
    "collapsed": true
   },
   "outputs": [],
   "source": []
  }
 ],
 "metadata": {
  "kernelspec": {
   "display_name": "Python [Root]",
   "language": "python",
   "name": "Python [Root]"
  },
  "language_info": {
   "codemirror_mode": {
    "name": "ipython",
    "version": 2
   },
   "file_extension": ".py",
   "mimetype": "text/x-python",
   "name": "python",
   "nbconvert_exporter": "python",
   "pygments_lexer": "ipython2",
   "version": "2.7.12"
  }
 },
 "nbformat": 4,
 "nbformat_minor": 0
}
