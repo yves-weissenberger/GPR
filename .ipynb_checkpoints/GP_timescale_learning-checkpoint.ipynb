{
 "cells": [
  {
   "cell_type": "code",
   "execution_count": 1,
   "metadata": {
    "collapsed": true
   },
   "outputs": [],
   "source": [
    "%matplotlib inline\n",
    "\n",
    "\n",
    "from __future__ import division\n",
    "\n",
    "import numpy as np\n",
    "import scipy\n",
    "import time, re, os, sys\n",
    "import copy as cp\n",
    "\n",
    "import matplotlib.pyplot as plt\n",
    "import seaborn\n",
    "from scipy.stats import multivariate_normal\n",
    "import scipy.spatial.distance as dst\n",
    "seaborn.set_context(\"paper\",font_scale=2)\n",
    "seaborn.set_style(\"whitegrid\")\n",
    "\n",
    "\n",
    "kernel = lambda x1,x2: k*np.exp((-.5)*((x1-x2)**2)/l**2)\n",
    "matern23 = lambda x1,x2: (1 + np.sqrt(3)*(x2-x1)/l)*np.exp(-(np.sqrt(3)*(x2-x1)/l))"
   ]
  },
  {
   "cell_type": "markdown",
   "metadata": {},
   "source": [
    "# Helper Functions"
   ]
  },
  {
   "cell_type": "code",
   "execution_count": 3,
   "metadata": {
    "collapsed": true
   },
   "outputs": [],
   "source": [
    "def calc_K(x,l,k=1e-3):\n",
    "    \n",
    "    a1,a2 = np.meshgrid(x,x)\n",
    "    sqDist = (a1-a2)**2\n",
    "    cov = (1-k)*np.exp(-.5*sqDist*l) + np.eye(len(x))*k\n",
    "    return cov,sqDist"
   ]
  },
  {
   "cell_type": "code",
   "execution_count": null,
   "metadata": {
    "collapsed": true
   },
   "outputs": [],
   "source": []
  },
  {
   "cell_type": "code",
   "execution_count": null,
   "metadata": {
    "collapsed": true
   },
   "outputs": [],
   "source": []
  },
  {
   "cell_type": "markdown",
   "metadata": {},
   "source": [
    "# Generate Fake Data"
   ]
  },
  {
   "cell_type": "code",
   "execution_count": 2,
   "metadata": {
    "collapsed": true
   },
   "outputs": [],
   "source": [
    "t = np.linspace(0,10,num=200)\n",
    "\n",
    "length_scale = 0.2\n",
    "\n"
   ]
  },
  {
   "cell_type": "code",
   "execution_count": null,
   "metadata": {
    "collapsed": true
   },
   "outputs": [],
   "source": []
  },
  {
   "cell_type": "code",
   "execution_count": null,
   "metadata": {
    "collapsed": true
   },
   "outputs": [],
   "source": []
  },
  {
   "cell_type": "code",
   "execution_count": null,
   "metadata": {
    "collapsed": true
   },
   "outputs": [],
   "source": []
  },
  {
   "cell_type": "code",
   "execution_count": null,
   "metadata": {
    "collapsed": true
   },
   "outputs": [],
   "source": [
    "K = get_covariance_matrix(D[:,0],k=k,l=l,add_offset=0)#np.zeros([D.shape[0],D.shape[0]])\n",
    "K += 2*np.eye(D.shape[0])   #add the noise term\n",
    "\n",
    "#this is K* is common notation. Covariance between unseen and seen data points\n",
    "Kst = get_covariance_matrix(x=x_samples,y=D[:,0],k=k,l=l,add_offset=0)  \n",
    "\n",
    "#This is K** covariance matrix just between unseen and unseen x-values\n",
    "Kstst = get_covariance_matrix(x=x_samples,k=k,l=l,add_offset=0)\n"
   ]
  }
 ],
 "metadata": {
  "kernelspec": {
   "display_name": "Python [Root]",
   "language": "python",
   "name": "Python [Root]"
  },
  "language_info": {
   "codemirror_mode": {
    "name": "ipython",
    "version": 2
   },
   "file_extension": ".py",
   "mimetype": "text/x-python",
   "name": "python",
   "nbconvert_exporter": "python",
   "pygments_lexer": "ipython2",
   "version": "2.7.12"
  }
 },
 "nbformat": 4,
 "nbformat_minor": 0
}
