{
 "cells": [
  {
   "cell_type": "code",
   "execution_count": 3,
   "metadata": {
    "collapsed": true
   },
   "outputs": [],
   "source": [
    "%matplotlib inline\n",
    "\n",
    "\n",
    "from __future__ import division\n",
    "\n",
    "import numpy as np\n",
    "\n",
    "import matplotlib.pyplot as plt\n",
    "import seaborn\n",
    "from scipy.stats import multivariate_normal\n",
    "seaborn.set_context(\"paper\",font_scale=2)\n",
    "seaborn.set_style(\"whitegrid\")\n",
    "\n",
    "\n"
   ]
  },
  {
   "cell_type": "markdown",
   "metadata": {},
   "source": [
    "# Helper Functions"
   ]
  },
  {
   "cell_type": "code",
   "execution_count": 4,
   "metadata": {
    "collapsed": true
   },
   "outputs": [],
   "source": [
    "def calc_K(x,l,k=1e-3):\n",
    "    \"\"\" calculate covariance matrix \n",
    "        ##################################\n",
    "        x: inputs\n",
    "        \n",
    "        l: GP length scale\n",
    "        \n",
    "        k: noise and addition term fixed to small value \n",
    "           to ensure smooth inferred trajectories\n",
    "        \"\"\"\n",
    "    a1,a2 = np.meshgrid(x,x)\n",
    "    sqDist = (a1-a2)**2\n",
    "    cov = (1-k)*np.exp(-.5*sqDist*l) + np.eye(len(x))*k\n",
    "    return cov,sqDist"
   ]
  },
  {
   "cell_type": "markdown",
   "metadata": {},
   "source": [
    "# Generate Fake Data"
   ]
  },
  {
   "cell_type": "code",
   "execution_count": 368,
   "metadata": {
    "collapsed": false
   },
   "outputs": [
    {
     "data": {
      "text/plain": [
       "[<matplotlib.lines.Line2D at 0x7f7ba8d5e550>]"
      ]
     },
     "execution_count": 368,
     "metadata": {},
     "output_type": "execute_result"
    },
    {
     "data": {
      "image/png": "[encoded data removed]",
      "text/plain": [
       "<matplotlib.figure.Figure at 0x7f7baa995110>"
      ]
     },
     "metadata": {},
     "output_type": "display_data"
    }
   ],
   "source": [
    "t = np.linspace(0,10,num=150)\n",
    "\n",
    "length_scale = 2\n",
    "\n",
    "K,_ = calc_K(x=t,l=length_scale)\n",
    "mvn = multivariate_normal(mean=[0]*len(t),cov=K)\n",
    "y = mvn.rvs()  #generate the function\n",
    "#y +=  + np.random.normal(0,scale=.2,size=len(t))  #add some noise\n",
    "plt.plot(y,'-o')"
   ]
  },
  {
   "cell_type": "markdown",
   "metadata": {},
   "source": [
    "## Trying to Optimise the Timescale hyperparameter\n",
    "\n",
    "### Eqns for timescale opt\n",
    "\n",
    "\n",
    "\n",
    "$lnP(y|x, \\theta) = -\\frac{1}{2}ln|K| - \\frac{1}{2}y^tK^{-1}y - \\frac{N}{2}ln{2\\pi}$\n",
    "\n",
    "\n",
    "$\\frac{\\partial}{\\partial\\theta_l}lnP(y|x, \\theta) = -\\frac{1}{2}\\Big(Tr\\big(K^{-1}\\frac{\\partial K}{\\partial\\theta_l}\\big) + y^TK^{-1}\\frac{\\partial K}{\\partial\\theta_l}K^{-1}y^T \\Big)$\n",
    "\n",
    "\n",
    "$K(x,x') = \\sigma^2\\exp\\big(-(x-x')^T(x-x')\\theta_{l}\\big)$\n",
    "\n",
    "$\\frac{\\partial K}{\\partial l} = \\sigma^2\\exp\\big(-(x-x')^T(x-x')\\theta_{l}\\big) \\times (x-x')^T(x-x')$\n",
    "\n",
    "where $\\times $ denotes the elementwise product\n"
   ]
  },
  {
   "cell_type": "code",
   "execution_count": 369,
   "metadata": {
    "collapsed": false
   },
   "outputs": [],
   "source": [
    "def logPost(tav_0,args):\n",
    "    tav = np.exp(tav_0)\n",
    "    x = args[0]\n",
    "    y = args[1]\n",
    "\n",
    "    K,sqDist = calc_K(x,l=tav)\n",
    "\n",
    "    s,logdet = np.linalg.slogdet(K)\n",
    "    t1 = s*logdet \n",
    "    Kinv = np.linalg.inv(K)\n",
    "    t2 = y.dot(np.dot(Kinv,y))\n",
    "\n",
    "    t3 = len(y)*np.log(2*np.pi)\n",
    "    ll = -.5*(t1 + t2 + 0*t3)\n",
    "    return -ll"
   ]
  },
  {
   "cell_type": "code",
   "execution_count": 370,
   "metadata": {
    "collapsed": false
   },
   "outputs": [
    {
     "data": {
      "text/plain": [
       "286878.72809554415"
      ]
     },
     "execution_count": 370,
     "metadata": {},
     "output_type": "execute_result"
    }
   ],
   "source": [
    "get_ipython().profile\n",
    "logPost_grad(-2,[t,y])"
   ]
  },
  {
   "cell_type": "code",
   "execution_count": 371,
   "metadata": {
    "collapsed": true
   },
   "outputs": [],
   "source": [
    "def logPost_grad(tav,args):\n",
    "    x = args[0]\n",
    "    y = args[1]\n",
    "    tav = np.exp(tav)\n",
    "    #print tav\n",
    "    #Km=get_covariance_matrix(t,k=k,l=tav,add_offset=0)\n",
    "    K,sqDist = calc_K(x,l=tav)\n",
    "        \n",
    "    Kinv = np.linalg.inv(K)\n",
    "    dK = -sqDist*K\n",
    "    \n",
    "    \n",
    "    t1 = np.dot(np.dot(y,Kinv),\n",
    "                np.dot(dK,Kinv).dot(y))\n",
    "    \n",
    "    t2 = np.trace(np.dot(Kinv,dK))\n",
    "\n",
    "    dl = .5*(t1 - t2)\n",
    "    \n",
    "    return dl"
   ]
  },
  {
   "cell_type": "code",
   "execution_count": 372,
   "metadata": {
    "collapsed": false
   },
   "outputs": [
    {
     "data": {
      "text/plain": [
       "306291.2383494504"
      ]
     },
     "execution_count": 372,
     "metadata": {},
     "output_type": "execute_result"
    }
   ],
   "source": [
    "op.check_grad(logPost,logPost_grad,[-2],[t,y])"
   ]
  },
  {
   "cell_type": "code",
   "execution_count": 373,
   "metadata": {
    "collapsed": false,
    "scrolled": true
   },
   "outputs": [
    {
     "data": {
      "text/plain": [
       "     fun: -359.3163538260783\n",
       "     jac: array([-7.93858337])\n",
       " message: 'Desired error not necessarily achieved due to precision loss.'\n",
       "    nfev: 30\n",
       "     nit: 2\n",
       "    njev: 6\n",
       "  status: 2\n",
       " success: False\n",
       "       x: array([ 0.58962687])"
      ]
     },
     "execution_count": 373,
     "metadata": {},
     "output_type": "execute_result"
    }
   ],
   "source": [
    "initp = 5\n",
    "import scipy.optimize as op\n",
    "r = op.minimize(fun = logPost,\n",
    "                x0 = initp,\n",
    "                args = [t,y],\n",
    "                jac=0,\n",
    "                method='CG',\n",
    "                options = {'disp': False,'gtol':1e-6,})\n",
    "r"
   ]
  },
  {
   "cell_type": "code",
   "execution_count": 374,
   "metadata": {
    "collapsed": false
   },
   "outputs": [
    {
     "data": {
      "text/plain": [
       "array([ 1.80331542])"
      ]
     },
     "execution_count": 374,
     "metadata": {},
     "output_type": "execute_result"
    }
   ],
   "source": [
    "np.exp(r.x)"
   ]
  },
  {
   "cell_type": "code",
   "execution_count": 356,
   "metadata": {
    "collapsed": false
   },
   "outputs": [
    {
     "data": {
      "text/plain": [
       "5"
      ]
     },
     "execution_count": 356,
     "metadata": {},
     "output_type": "execute_result"
    }
   ],
   "source": [
    "length_scale"
   ]
  },
  {
   "cell_type": "code",
   "execution_count": 209,
   "metadata": {
    "collapsed": true
   },
   "outputs": [],
   "source": [
    "import re\n",
    "ll=['Filesystem Size Used Avail Use% Mounted on', '/dev/mapper/vg00-lvol_root', ' 976M 356M 570M 39% /', 'tmpfs 1.9G 0 1.9G 0% /dev/shm', '/dev/mapper/vg00-lvol_apps', ' 20G 6.1G 13G 33% /apps', '/dev/sda1 976M 63M 863M 7% /boot', '/dev/mapper/vg00-lvol_data']"
   ]
  },
  {
   "cell_type": "code",
   "execution_count": 233,
   "metadata": {
    "collapsed": false
   },
   "outputs": [
    {
     "ename": "TypeError",
     "evalue": "'_sre.SRE_Match' object has no attribute '__getitem__'",
     "output_type": "error",
     "traceback": [
      "\u001b[1;31m---------------------------------------------------------------------------\u001b[0m",
      "\u001b[1;31mTypeError\u001b[0m                                 Traceback (most recent call last)",
      "\u001b[1;32m<ipython-input-233-240e301b5c06>\u001b[0m in \u001b[0;36m<module>\u001b[1;34m()\u001b[0m\n\u001b[1;32m----> 1\u001b[1;33m \u001b[0mre\u001b[0m\u001b[1;33m.\u001b[0m\u001b[0msearch\u001b[0m\u001b[1;33m(\u001b[0m\u001b[1;34mr\"(\\/.*\\/)*.*\"\u001b[0m\u001b[1;33m,\u001b[0m\u001b[0mll\u001b[0m\u001b[1;33m[\u001b[0m\u001b[1;36m1\u001b[0m\u001b[1;33m]\u001b[0m\u001b[1;33m)\u001b[0m\u001b[1;33m[\u001b[0m\u001b[1;36m0\u001b[0m\u001b[1;33m]\u001b[0m\u001b[1;33m==\u001b[0m\u001b[1;36m1\u001b[0m\u001b[1;33m\u001b[0m\u001b[0m\n\u001b[0m",
      "\u001b[1;31mTypeError\u001b[0m: '_sre.SRE_Match' object has no attribute '__getitem__'"
     ]
    }
   ],
   "source": [
    "re.search(r\"(\\/.*\\/)*.*\",ll[1])==1"
   ]
  },
  {
   "cell_type": "code",
   "execution_count": 359,
   "metadata": {
    "collapsed": false
   },
   "outputs": [],
   "source": [
    "aa = np.random.randint(0,1,size=(100,200,30,3))"
   ]
  },
  {
   "cell_type": "code",
   "execution_count": null,
   "metadata": {
    "collapsed": true
   },
   "outputs": [],
   "source": []
  }
 ],
 "metadata": {
  "kernelspec": {
   "display_name": "Python [Root]",
   "language": "python",
   "name": "Python [Root]"
  },
  "language_info": {
   "codemirror_mode": {
    "name": "ipython",
    "version": 2
   },
   "file_extension": ".py",
   "mimetype": "text/x-python",
   "name": "python",
   "nbconvert_exporter": "python",
   "pygments_lexer": "ipython2",
   "version": "2.7.12"
  }
 },
 "nbformat": 4,
 "nbformat_minor": 0
}
