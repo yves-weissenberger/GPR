{
 "cells": [
  {
   "cell_type": "code",
   "execution_count": 1,
   "metadata": {
    "collapsed": false
   },
   "outputs": [
    {
     "name": "stderr",
     "output_type": "stream",
     "text": [
      "/usr/lib/python2.7/dist-packages/matplotlib/__init__.py:874: UserWarning: axes.color_cycle is deprecated and replaced with axes.prop_cycle; please use the latter.\n",
      "  warnings.warn(self.msg_depr % (key, alt_key))\n"
     ]
    }
   ],
   "source": [
    "%matplotlib inline\n",
    "\n",
    "\n",
    "from __future__ import division\n",
    "\n",
    "import numpy as np\n",
    "\n",
    "import time, re, os, sys\n",
    "import copy as cp\n",
    "\n",
    "import matplotlib.pyplot as plt\n",
    "import seaborn\n",
    "from scipy.stats import multivariate_normal\n",
    "import scipy.spatial.distance as dst\n",
    "seaborn.set_context(\"paper\",font_scale=2)\n",
    "seaborn.set_style(\"whitegrid\")\n",
    "\n",
    "\n",
    "kernel = lambda x1,x2: k*np.exp((-.5)*((x1-x2)**2)/l**2)\n"
   ]
  },
  {
   "cell_type": "code",
   "execution_count": 114,
   "metadata": {
    "collapsed": false
   },
   "outputs": [],
   "source": [
    "def get_covariance_matrix(x,k=3,l=.5):\n",
    "    \n",
    "    distsSq = get_sqdists(x_samples)\n",
    "    \n",
    "    cov = k*np.exp(-.5*distsSq/(l**2)) +np.eye(distsSq.shape[0])*1e-6\n",
    "    \n",
    "    return cov"
   ]
  },
  {
   "cell_type": "code",
   "execution_count": 115,
   "metadata": {
    "collapsed": true
   },
   "outputs": [],
   "source": [
    "def get_sqdists(x):\n",
    "    \n",
    "    if x.ndim==1:\n",
    "        dists = dst.pdist(np.vstack([x,np.zeros(n_samps)]).T,metric='sqeuclidean')\n",
    "    else:\n",
    "        dists = dst.pdist(x)\n",
    "    return dst.squareform(dists)"
   ]
  },
  {
   "cell_type": "code",
   "execution_count": 126,
   "metadata": {
    "collapsed": false
   },
   "outputs": [],
   "source": [
    "n_samps = 200\n",
    "x_samples = np.linspace(1,5,num=n_samps)\n",
    "y_samples = np.linspace(2,4,num=n_samps)\n"
   ]
  },
  {
   "cell_type": "code",
   "execution_count": 127,
   "metadata": {
    "collapsed": false
   },
   "outputs": [],
   "source": [
    "SIGMA = np.zeros([n_samps,n_samps])"
   ]
  },
  {
   "cell_type": "code",
   "execution_count": 128,
   "metadata": {
    "collapsed": true
   },
   "outputs": [],
   "source": [
    "#define parameters for the GP regression\n",
    "k = 3\n",
    "l = .5"
   ]
  },
  {
   "cell_type": "code",
   "execution_count": 129,
   "metadata": {
    "collapsed": false
   },
   "outputs": [
    {
     "name": "stdout",
     "output_type": "stream",
     "text": [
      "10 loops, best of 3: 72.7 ms per loop\n"
     ]
    }
   ],
   "source": [
    "%%timeit\n",
    "SIGMA = np.zeros([n_samps,n_samps])\n",
    "for idx1,samp1 in enumerate(x_samples):\n",
    "    \n",
    "    for idx2,samp2 in enumerate(x_samples):\n",
    "        \n",
    "        SIGMA[idx1,idx2] = kernel(samp1,samp2)  #+= 1e-6\n",
    "        #if idx1==idx2:\n",
    "        #    SIGMA[idx1,idx2]\n",
    "            \n",
    "SIGMA += np.eye(SIGMA.shape[0])*1e-6"
   ]
  },
  {
   "cell_type": "code",
   "execution_count": 130,
   "metadata": {
    "collapsed": false
   },
   "outputs": [
    {
     "name": "stdout",
     "output_type": "stream",
     "text": [
      "1000 loops, best of 3: 1.03 ms per loop\n"
     ]
    }
   ],
   "source": [
    "%%timeit\n",
    "a = get_covariance_matrix(x_samples)"
   ]
  },
  {
   "cell_type": "markdown",
   "metadata": {},
   "source": [
    "# Now in 2-D "
   ]
  },
  {
   "cell_type": "code",
   "execution_count": 131,
   "metadata": {
    "collapsed": true
   },
   "outputs": [],
   "source": [
    "n_samps = 200\n",
    "x_samples = np.linspace(1,5,num=n_samps)\n",
    "y_samples = np.linspace(2,4,num=n_samps)\n",
    "z_samples = np.vstack([x_samples,y_samples])"
   ]
  },
  {
   "cell_type": "code",
   "execution_count": 132,
   "metadata": {
    "collapsed": true
   },
   "outputs": [],
   "source": [
    "b = get_covariance_matrix(z_samples)"
   ]
  },
  {
   "cell_type": "code",
   "execution_count": 135,
   "metadata": {
    "collapsed": true
   },
   "outputs": [],
   "source": [
    "kernel = lambda x1,x2: k*np.exp((-.5)*(dst.euclidean(x1,x2)**2)/l**2)\n"
   ]
  },
  {
   "cell_type": "code",
   "execution_count": 136,
   "metadata": {
    "collapsed": false
   },
   "outputs": [],
   "source": [
    "SIGMA = np.zeros([n_samps,n_samps])\n",
    "for idx1,samp1 in enumerate(x_samples):\n",
    "    \n",
    "    for idx2,samp2 in enumerate(x_samples):\n",
    "        \n",
    "        SIGMA[idx1,idx2] = kernel(samp1,samp2)  #+= 1e-6\n",
    "        #if idx1==idx2:\n",
    "        #    SIGMA[idx1,idx2]\n",
    "            \n",
    "SIGMA += np.eye(SIGMA.shape[0])*1e-6"
   ]
  },
  {
   "cell_type": "code",
   "execution_count": 137,
   "metadata": {
    "collapsed": false
   },
   "outputs": [
    {
     "data": {
      "text/plain": [
       "array([[ True,  True,  True, ...,  True,  True,  True],\n",
       "       [ True,  True,  True, ...,  True,  True,  True],\n",
       "       [ True,  True,  True, ...,  True,  True,  True],\n",
       "       ..., \n",
       "       [ True,  True,  True, ...,  True,  True,  True],\n",
       "       [ True,  True,  True, ...,  True,  True,  True],\n",
       "       [ True,  True,  True, ...,  True,  True,  True]], dtype=bool)"
      ]
     },
     "execution_count": 137,
     "metadata": {},
     "output_type": "execute_result"
    }
   ],
   "source": [
    "b==SIGMA"
   ]
  },
  {
   "cell_type": "code",
   "execution_count": 138,
   "metadata": {
    "collapsed": false
   },
   "outputs": [
    {
     "name": "stdout",
     "output_type": "stream",
     "text": [
      "1000 loops, best of 3: 1.03 ms per loop\n"
     ]
    }
   ],
   "source": [
    "%%timeit\n",
    "b = get_covariance_matrix(z_samples)"
   ]
  },
  {
   "cell_type": "code",
   "execution_count": 141,
   "metadata": {
    "collapsed": false
   },
   "outputs": [
    {
     "name": "stdout",
     "output_type": "stream",
     "text": [
      "1 loop, best of 3: 725 ms per loop\n"
     ]
    }
   ],
   "source": [
    "%%timeit\n",
    "SIGMA = np.zeros([n_samps,n_samps])\n",
    "for idx1,samp1 in enumerate(x_samples):\n",
    "    \n",
    "    for idx2,samp2 in enumerate(x_samples):\n",
    "        \n",
    "        SIGMA[idx1,idx2] = kernel(samp1,samp2)  #+= 1e-6\n",
    "        #if idx1==idx2:\n",
    "        #    SIGMA[idx1,idx2]\n",
    "            \n",
    "SIGMA += np.eye(SIGMA.shape[0])*1e-6"
   ]
  },
  {
   "cell_type": "code",
   "execution_count": null,
   "metadata": {
    "collapsed": true
   },
   "outputs": [],
   "source": []
  }
 ],
 "metadata": {
  "kernelspec": {
   "display_name": "Python 2",
   "language": "python",
   "name": "python2"
  },
  "language_info": {
   "codemirror_mode": {
    "name": "ipython",
    "version": 2
   },
   "file_extension": ".py",
   "mimetype": "text/x-python",
   "name": "python",
   "nbconvert_exporter": "python",
   "pygments_lexer": "ipython2",
   "version": "2.7.11+"
  }
 },
 "nbformat": 4,
 "nbformat_minor": 0
}
